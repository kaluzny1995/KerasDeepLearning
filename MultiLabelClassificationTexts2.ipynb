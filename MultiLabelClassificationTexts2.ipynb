{
 "cells": [
  {
   "cell_type": "markdown",
   "metadata": {},
   "source": [
    "# Texts multi-label classification using Keras & FastText\n",
    "---"
   ]
  },
  {
   "cell_type": "code",
   "execution_count": 1,
   "metadata": {},
   "outputs": [
    {
     "name": "stderr",
     "output_type": "stream",
     "text": [
      "Using TensorFlow backend.\n",
      "/home/jakub/Dokumenty/venv36/lib/python3.6/site-packages/tensorflow/python/framework/dtypes.py:516: FutureWarning: Passing (type, 1) or '1type' as a synonym of type is deprecated; in a future version of numpy, it will be understood as (type, (1,)) / '(1,)type'.\n",
      "  _np_qint8 = np.dtype([(\"qint8\", np.int8, 1)])\n",
      "/home/jakub/Dokumenty/venv36/lib/python3.6/site-packages/tensorflow/python/framework/dtypes.py:517: FutureWarning: Passing (type, 1) or '1type' as a synonym of type is deprecated; in a future version of numpy, it will be understood as (type, (1,)) / '(1,)type'.\n",
      "  _np_quint8 = np.dtype([(\"quint8\", np.uint8, 1)])\n",
      "/home/jakub/Dokumenty/venv36/lib/python3.6/site-packages/tensorflow/python/framework/dtypes.py:518: FutureWarning: Passing (type, 1) or '1type' as a synonym of type is deprecated; in a future version of numpy, it will be understood as (type, (1,)) / '(1,)type'.\n",
      "  _np_qint16 = np.dtype([(\"qint16\", np.int16, 1)])\n",
      "/home/jakub/Dokumenty/venv36/lib/python3.6/site-packages/tensorflow/python/framework/dtypes.py:519: FutureWarning: Passing (type, 1) or '1type' as a synonym of type is deprecated; in a future version of numpy, it will be understood as (type, (1,)) / '(1,)type'.\n",
      "  _np_quint16 = np.dtype([(\"quint16\", np.uint16, 1)])\n",
      "/home/jakub/Dokumenty/venv36/lib/python3.6/site-packages/tensorflow/python/framework/dtypes.py:520: FutureWarning: Passing (type, 1) or '1type' as a synonym of type is deprecated; in a future version of numpy, it will be understood as (type, (1,)) / '(1,)type'.\n",
      "  _np_qint32 = np.dtype([(\"qint32\", np.int32, 1)])\n",
      "/home/jakub/Dokumenty/venv36/lib/python3.6/site-packages/tensorflow/python/framework/dtypes.py:525: FutureWarning: Passing (type, 1) or '1type' as a synonym of type is deprecated; in a future version of numpy, it will be understood as (type, (1,)) / '(1,)type'.\n",
      "  np_resource = np.dtype([(\"resource\", np.ubyte, 1)])\n",
      "/home/jakub/Dokumenty/venv36/lib/python3.6/site-packages/tensorboard/compat/tensorflow_stub/dtypes.py:541: FutureWarning: Passing (type, 1) or '1type' as a synonym of type is deprecated; in a future version of numpy, it will be understood as (type, (1,)) / '(1,)type'.\n",
      "  _np_qint8 = np.dtype([(\"qint8\", np.int8, 1)])\n",
      "/home/jakub/Dokumenty/venv36/lib/python3.6/site-packages/tensorboard/compat/tensorflow_stub/dtypes.py:542: FutureWarning: Passing (type, 1) or '1type' as a synonym of type is deprecated; in a future version of numpy, it will be understood as (type, (1,)) / '(1,)type'.\n",
      "  _np_quint8 = np.dtype([(\"quint8\", np.uint8, 1)])\n",
      "/home/jakub/Dokumenty/venv36/lib/python3.6/site-packages/tensorboard/compat/tensorflow_stub/dtypes.py:543: FutureWarning: Passing (type, 1) or '1type' as a synonym of type is deprecated; in a future version of numpy, it will be understood as (type, (1,)) / '(1,)type'.\n",
      "  _np_qint16 = np.dtype([(\"qint16\", np.int16, 1)])\n",
      "/home/jakub/Dokumenty/venv36/lib/python3.6/site-packages/tensorboard/compat/tensorflow_stub/dtypes.py:544: FutureWarning: Passing (type, 1) or '1type' as a synonym of type is deprecated; in a future version of numpy, it will be understood as (type, (1,)) / '(1,)type'.\n",
      "  _np_quint16 = np.dtype([(\"quint16\", np.uint16, 1)])\n",
      "/home/jakub/Dokumenty/venv36/lib/python3.6/site-packages/tensorboard/compat/tensorflow_stub/dtypes.py:545: FutureWarning: Passing (type, 1) or '1type' as a synonym of type is deprecated; in a future version of numpy, it will be understood as (type, (1,)) / '(1,)type'.\n",
      "  _np_qint32 = np.dtype([(\"qint32\", np.int32, 1)])\n",
      "/home/jakub/Dokumenty/venv36/lib/python3.6/site-packages/tensorboard/compat/tensorflow_stub/dtypes.py:550: FutureWarning: Passing (type, 1) or '1type' as a synonym of type is deprecated; in a future version of numpy, it will be understood as (type, (1,)) / '(1,)type'.\n",
      "  np_resource = np.dtype([(\"resource\", np.ubyte, 1)])\n"
     ]
    }
   ],
   "source": [
    "import numpy as np\n",
    "import pandas as pd\n",
    "\n",
    "import seaborn as sns\n",
    "import matplotlib.pyplot as plt\n",
    "\n",
    "from sklearn.preprocessing import MultiLabelBinarizer\n",
    "import fasttext\n",
    "\n",
    "from tqdm.notebook import tqdm\n",
    "from keras_tqdm import TQDMNotebookCallback\n",
    "\n",
    "import tensorflow as tf\n",
    "from tensorflow.keras import Model\n",
    "from tensorflow.keras.layers import Input, Dense, Conv1D, MaxPool1D, Flatten, Dropout, Reshape\n",
    "import keras.backend as K"
   ]
  },
  {
   "cell_type": "code",
   "execution_count": 2,
   "metadata": {},
   "outputs": [
    {
     "name": "stdout",
     "output_type": "stream",
     "text": [
      "Tensorflow: 2.0.0-beta1\n"
     ]
    }
   ],
   "source": [
    "print('Tensorflow:', tf.__version__)"
   ]
  },
  {
   "cell_type": "code",
   "execution_count": 3,
   "metadata": {},
   "outputs": [],
   "source": [
    "pd.set_option('display.max_colwidth', 400)"
   ]
  },
  {
   "cell_type": "markdown",
   "metadata": {},
   "source": [
    "## Data loading\n",
    "---"
   ]
  },
  {
   "cell_type": "code",
   "execution_count": 4,
   "metadata": {},
   "outputs": [
    {
     "data": {
      "text/html": [
       "<div>\n",
       "<style scoped>\n",
       "    .dataframe tbody tr th:only-of-type {\n",
       "        vertical-align: middle;\n",
       "    }\n",
       "\n",
       "    .dataframe tbody tr th {\n",
       "        vertical-align: top;\n",
       "    }\n",
       "\n",
       "    .dataframe thead th {\n",
       "        text-align: right;\n",
       "    }\n",
       "</style>\n",
       "<table border=\"1\" class=\"dataframe\">\n",
       "  <thead>\n",
       "    <tr style=\"text-align: right;\">\n",
       "      <th></th>\n",
       "      <th>id</th>\n",
       "      <th>title</th>\n",
       "      <th>overview</th>\n",
       "      <th>tagline</th>\n",
       "      <th>genres</th>\n",
       "    </tr>\n",
       "  </thead>\n",
       "  <tbody>\n",
       "    <tr>\n",
       "      <th>0</th>\n",
       "      <td>19995</td>\n",
       "      <td>Avatar</td>\n",
       "      <td>In the 22nd century, a paraplegic Marine is dispatched to the moon Pandora on a unique mission, but becomes torn between following orders and protecting an alien civilization.</td>\n",
       "      <td>Enter the World of Pandora.</td>\n",
       "      <td>[{\"id\": 28, \"name\": \"Action\"}, {\"id\": 12, \"name\": \"Adventure\"}, {\"id\": 14, \"name\": \"Fantasy\"}, {\"id\": 878, \"name\": \"Science Fiction\"}]</td>\n",
       "    </tr>\n",
       "    <tr>\n",
       "      <th>1</th>\n",
       "      <td>285</td>\n",
       "      <td>Pirates of the Caribbean: At World's End</td>\n",
       "      <td>Captain Barbossa, long believed to be dead, has come back to life and is headed to the edge of the Earth with Will Turner and Elizabeth Swann. But nothing is quite as it seems.</td>\n",
       "      <td>At the end of the world, the adventure begins.</td>\n",
       "      <td>[{\"id\": 12, \"name\": \"Adventure\"}, {\"id\": 14, \"name\": \"Fantasy\"}, {\"id\": 28, \"name\": \"Action\"}]</td>\n",
       "    </tr>\n",
       "    <tr>\n",
       "      <th>2</th>\n",
       "      <td>206647</td>\n",
       "      <td>Spectre</td>\n",
       "      <td>A cryptic message from Bond’s past sends him on a trail to uncover a sinister organization. While M battles political forces to keep the secret service alive, Bond peels back the layers of deceit to reveal the terrible truth behind SPECTRE.</td>\n",
       "      <td>A Plan No One Escapes</td>\n",
       "      <td>[{\"id\": 28, \"name\": \"Action\"}, {\"id\": 12, \"name\": \"Adventure\"}, {\"id\": 80, \"name\": \"Crime\"}]</td>\n",
       "    </tr>\n",
       "    <tr>\n",
       "      <th>3</th>\n",
       "      <td>49026</td>\n",
       "      <td>The Dark Knight Rises</td>\n",
       "      <td>Following the death of District Attorney Harvey Dent, Batman assumes responsibility for Dent's crimes to protect the late attorney's reputation and is subsequently hunted by the Gotham City Police Department. Eight years later, Batman encounters the mysterious Selina Kyle and the villainous Bane, a new terrorist leader who overwhelms Gotham's finest. The Dark Knight resurfaces to protect a cit...</td>\n",
       "      <td>The Legend Ends</td>\n",
       "      <td>[{\"id\": 28, \"name\": \"Action\"}, {\"id\": 80, \"name\": \"Crime\"}, {\"id\": 18, \"name\": \"Drama\"}, {\"id\": 53, \"name\": \"Thriller\"}]</td>\n",
       "    </tr>\n",
       "    <tr>\n",
       "      <th>4</th>\n",
       "      <td>49529</td>\n",
       "      <td>John Carter</td>\n",
       "      <td>John Carter is a war-weary, former military captain who's inexplicably transported to the mysterious and exotic planet of Barsoom (Mars) and reluctantly becomes embroiled in an epic conflict. It's a world on the brink of collapse, and Carter rediscovers his humanity when he realizes the survival of Barsoom and its people rests in his hands.</td>\n",
       "      <td>Lost in our world, found in another.</td>\n",
       "      <td>[{\"id\": 28, \"name\": \"Action\"}, {\"id\": 12, \"name\": \"Adventure\"}, {\"id\": 878, \"name\": \"Science Fiction\"}]</td>\n",
       "    </tr>\n",
       "  </tbody>\n",
       "</table>\n",
       "</div>"
      ],
      "text/plain": [
       "       id                                     title  \\\n",
       "0   19995                                    Avatar   \n",
       "1     285  Pirates of the Caribbean: At World's End   \n",
       "2  206647                                   Spectre   \n",
       "3   49026                     The Dark Knight Rises   \n",
       "4   49529                               John Carter   \n",
       "\n",
       "                                                                                                                                                                                                                                                                                                                                                                                                          overview  \\\n",
       "0                                                                                                                                                                                                                                  In the 22nd century, a paraplegic Marine is dispatched to the moon Pandora on a unique mission, but becomes torn between following orders and protecting an alien civilization.   \n",
       "1                                                                                                                                                                                                                                 Captain Barbossa, long believed to be dead, has come back to life and is headed to the edge of the Earth with Will Turner and Elizabeth Swann. But nothing is quite as it seems.   \n",
       "2                                                                                                                                                                 A cryptic message from Bond’s past sends him on a trail to uncover a sinister organization. While M battles political forces to keep the secret service alive, Bond peels back the layers of deceit to reveal the terrible truth behind SPECTRE.   \n",
       "3  Following the death of District Attorney Harvey Dent, Batman assumes responsibility for Dent's crimes to protect the late attorney's reputation and is subsequently hunted by the Gotham City Police Department. Eight years later, Batman encounters the mysterious Selina Kyle and the villainous Bane, a new terrorist leader who overwhelms Gotham's finest. The Dark Knight resurfaces to protect a cit...   \n",
       "4                                                           John Carter is a war-weary, former military captain who's inexplicably transported to the mysterious and exotic planet of Barsoom (Mars) and reluctantly becomes embroiled in an epic conflict. It's a world on the brink of collapse, and Carter rediscovers his humanity when he realizes the survival of Barsoom and its people rests in his hands.   \n",
       "\n",
       "                                          tagline  \\\n",
       "0                     Enter the World of Pandora.   \n",
       "1  At the end of the world, the adventure begins.   \n",
       "2                           A Plan No One Escapes   \n",
       "3                                 The Legend Ends   \n",
       "4            Lost in our world, found in another.   \n",
       "\n",
       "                                                                                                                                   genres  \n",
       "0  [{\"id\": 28, \"name\": \"Action\"}, {\"id\": 12, \"name\": \"Adventure\"}, {\"id\": 14, \"name\": \"Fantasy\"}, {\"id\": 878, \"name\": \"Science Fiction\"}]  \n",
       "1                                          [{\"id\": 12, \"name\": \"Adventure\"}, {\"id\": 14, \"name\": \"Fantasy\"}, {\"id\": 28, \"name\": \"Action\"}]  \n",
       "2                                            [{\"id\": 28, \"name\": \"Action\"}, {\"id\": 12, \"name\": \"Adventure\"}, {\"id\": 80, \"name\": \"Crime\"}]  \n",
       "3                [{\"id\": 28, \"name\": \"Action\"}, {\"id\": 80, \"name\": \"Crime\"}, {\"id\": 18, \"name\": \"Drama\"}, {\"id\": 53, \"name\": \"Thriller\"}]  \n",
       "4                                 [{\"id\": 28, \"name\": \"Action\"}, {\"id\": 12, \"name\": \"Adventure\"}, {\"id\": 878, \"name\": \"Science Fiction\"}]  "
      ]
     },
     "execution_count": 4,
     "metadata": {},
     "output_type": "execute_result"
    }
   ],
   "source": [
    "movies_df = pd.read_csv('ml_class_text2/tmdb-movie-metadata/tmdb_5000_movies.csv')\n",
    "movies_df = movies_df[['id', 'title', 'overview', 'tagline', 'genres']]\n",
    "movies_df = movies_df.fillna('no text')\n",
    "movies_df['genres'] = movies_df['genres'].replace('[]', '[{\"id\": 00, \"name\": \"NoGenre\"}]')\n",
    "movies_df.head()"
   ]
  },
  {
   "cell_type": "code",
   "execution_count": 5,
   "metadata": {},
   "outputs": [
    {
     "name": "stdout",
     "output_type": "stream",
     "text": [
      "Movies dataframe: (4803, 5)\n"
     ]
    }
   ],
   "source": [
    "print(f'Movies dataframe: {movies_df.shape}')"
   ]
  },
  {
   "cell_type": "code",
   "execution_count": 6,
   "metadata": {},
   "outputs": [
    {
     "data": {
      "text/html": [
       "<div>\n",
       "<style scoped>\n",
       "    .dataframe tbody tr th:only-of-type {\n",
       "        vertical-align: middle;\n",
       "    }\n",
       "\n",
       "    .dataframe tbody tr th {\n",
       "        vertical-align: top;\n",
       "    }\n",
       "\n",
       "    .dataframe thead th {\n",
       "        text-align: right;\n",
       "    }\n",
       "</style>\n",
       "<table border=\"1\" class=\"dataframe\">\n",
       "  <thead>\n",
       "    <tr style=\"text-align: right;\">\n",
       "      <th></th>\n",
       "      <th>id</th>\n",
       "      <th>genres</th>\n",
       "      <th>text</th>\n",
       "    </tr>\n",
       "  </thead>\n",
       "  <tbody>\n",
       "    <tr>\n",
       "      <th>0</th>\n",
       "      <td>19995</td>\n",
       "      <td>[{\"id\": 28, \"name\": \"Action\"}, {\"id\": 12, \"name\": \"Adventure\"}, {\"id\": 14, \"name\": \"Fantasy\"}, {\"id\": 878, \"name\": \"Science Fiction\"}]</td>\n",
       "      <td>Avatar | Enter the World of Pandora. | In the 22nd century, a paraplegic Marine is dispatched to the moon Pandora on a unique mission, but becomes torn between following orders and protecting an alien civilization.</td>\n",
       "    </tr>\n",
       "    <tr>\n",
       "      <th>1</th>\n",
       "      <td>285</td>\n",
       "      <td>[{\"id\": 12, \"name\": \"Adventure\"}, {\"id\": 14, \"name\": \"Fantasy\"}, {\"id\": 28, \"name\": \"Action\"}]</td>\n",
       "      <td>Pirates of the Caribbean: At World's End | At the end of the world, the adventure begins. | Captain Barbossa, long believed to be dead, has come back to life and is headed to the edge of the Earth with Will Turner and Elizabeth Swann. But nothing is quite as it seems.</td>\n",
       "    </tr>\n",
       "    <tr>\n",
       "      <th>2</th>\n",
       "      <td>206647</td>\n",
       "      <td>[{\"id\": 28, \"name\": \"Action\"}, {\"id\": 12, \"name\": \"Adventure\"}, {\"id\": 80, \"name\": \"Crime\"}]</td>\n",
       "      <td>Spectre | A Plan No One Escapes | A cryptic message from Bond’s past sends him on a trail to uncover a sinister organization. While M battles political forces to keep the secret service alive, Bond peels back the layers of deceit to reveal the terrible truth behind SPECTRE.</td>\n",
       "    </tr>\n",
       "    <tr>\n",
       "      <th>3</th>\n",
       "      <td>49026</td>\n",
       "      <td>[{\"id\": 28, \"name\": \"Action\"}, {\"id\": 80, \"name\": \"Crime\"}, {\"id\": 18, \"name\": \"Drama\"}, {\"id\": 53, \"name\": \"Thriller\"}]</td>\n",
       "      <td>The Dark Knight Rises | The Legend Ends | Following the death of District Attorney Harvey Dent, Batman assumes responsibility for Dent's crimes to protect the late attorney's reputation and is subsequently hunted by the Gotham City Police Department. Eight years later, Batman encounters the mysterious Selina Kyle and the villainous Bane, a new terrorist leader who overwhelms Gotham's finest. T...</td>\n",
       "    </tr>\n",
       "    <tr>\n",
       "      <th>4</th>\n",
       "      <td>49529</td>\n",
       "      <td>[{\"id\": 28, \"name\": \"Action\"}, {\"id\": 12, \"name\": \"Adventure\"}, {\"id\": 878, \"name\": \"Science Fiction\"}]</td>\n",
       "      <td>John Carter | Lost in our world, found in another. | John Carter is a war-weary, former military captain who's inexplicably transported to the mysterious and exotic planet of Barsoom (Mars) and reluctantly becomes embroiled in an epic conflict. It's a world on the brink of collapse, and Carter rediscovers his humanity when he realizes the survival of Barsoom and its people rests in his hands.</td>\n",
       "    </tr>\n",
       "  </tbody>\n",
       "</table>\n",
       "</div>"
      ],
      "text/plain": [
       "       id  \\\n",
       "0   19995   \n",
       "1     285   \n",
       "2  206647   \n",
       "3   49026   \n",
       "4   49529   \n",
       "\n",
       "                                                                                                                                   genres  \\\n",
       "0  [{\"id\": 28, \"name\": \"Action\"}, {\"id\": 12, \"name\": \"Adventure\"}, {\"id\": 14, \"name\": \"Fantasy\"}, {\"id\": 878, \"name\": \"Science Fiction\"}]   \n",
       "1                                          [{\"id\": 12, \"name\": \"Adventure\"}, {\"id\": 14, \"name\": \"Fantasy\"}, {\"id\": 28, \"name\": \"Action\"}]   \n",
       "2                                            [{\"id\": 28, \"name\": \"Action\"}, {\"id\": 12, \"name\": \"Adventure\"}, {\"id\": 80, \"name\": \"Crime\"}]   \n",
       "3                [{\"id\": 28, \"name\": \"Action\"}, {\"id\": 80, \"name\": \"Crime\"}, {\"id\": 18, \"name\": \"Drama\"}, {\"id\": 53, \"name\": \"Thriller\"}]   \n",
       "4                                 [{\"id\": 28, \"name\": \"Action\"}, {\"id\": 12, \"name\": \"Adventure\"}, {\"id\": 878, \"name\": \"Science Fiction\"}]   \n",
       "\n",
       "                                                                                                                                                                                                                                                                                                                                                                                                              text  \n",
       "0                                                                                                                                                                                           Avatar | Enter the World of Pandora. | In the 22nd century, a paraplegic Marine is dispatched to the moon Pandora on a unique mission, but becomes torn between following orders and protecting an alien civilization.  \n",
       "1                                                                                                                                     Pirates of the Caribbean: At World's End | At the end of the world, the adventure begins. | Captain Barbossa, long believed to be dead, has come back to life and is headed to the edge of the Earth with Will Turner and Elizabeth Swann. But nothing is quite as it seems.  \n",
       "2                                                                                                                               Spectre | A Plan No One Escapes | A cryptic message from Bond’s past sends him on a trail to uncover a sinister organization. While M battles political forces to keep the secret service alive, Bond peels back the layers of deceit to reveal the terrible truth behind SPECTRE.  \n",
       "3  The Dark Knight Rises | The Legend Ends | Following the death of District Attorney Harvey Dent, Batman assumes responsibility for Dent's crimes to protect the late attorney's reputation and is subsequently hunted by the Gotham City Police Department. Eight years later, Batman encounters the mysterious Selina Kyle and the villainous Bane, a new terrorist leader who overwhelms Gotham's finest. T...  \n",
       "4      John Carter | Lost in our world, found in another. | John Carter is a war-weary, former military captain who's inexplicably transported to the mysterious and exotic planet of Barsoom (Mars) and reluctantly becomes embroiled in an epic conflict. It's a world on the brink of collapse, and Carter rediscovers his humanity when he realizes the survival of Barsoom and its people rests in his hands.  "
      ]
     },
     "execution_count": 6,
     "metadata": {},
     "output_type": "execute_result"
    }
   ],
   "source": [
    "movies_df['text'] = movies_df['title'] + ' | ' + movies_df['tagline'] + ' | ' + movies_df['overview']\n",
    "movies_df = movies_df.drop(['title', 'overview', 'tagline'], axis=1)\n",
    "movies_df.head()"
   ]
  },
  {
   "cell_type": "markdown",
   "metadata": {},
   "source": [
    "## Preprocessing\n",
    "---"
   ]
  },
  {
   "cell_type": "code",
   "execution_count": 7,
   "metadata": {},
   "outputs": [
    {
     "name": "stderr",
     "output_type": "stream",
     "text": [
      "Warning : `load_model` does not return WordVectorModel or SupervisedModel any more, but a `FastText` object which is very similar.\n"
     ]
    }
   ],
   "source": [
    "ft_model = fasttext.load_model('ml_class_text2/cc.en.300.bin')"
   ]
  },
  {
   "cell_type": "code",
   "execution_count": 8,
   "metadata": {},
   "outputs": [],
   "source": [
    "texts = movies_df['text'].values\n",
    "X = np.array([ft_model[t] for t in texts])\n",
    "#X = X.reshape(-1, 100, 3)"
   ]
  },
  {
   "cell_type": "code",
   "execution_count": 9,
   "metadata": {},
   "outputs": [],
   "source": [
    "del ft_model"
   ]
  },
  {
   "cell_type": "code",
   "execution_count": 10,
   "metadata": {},
   "outputs": [
    {
     "data": {
      "text/plain": [
       "(4803, 300)"
      ]
     },
     "execution_count": 10,
     "metadata": {},
     "output_type": "execute_result"
    }
   ],
   "source": [
    "X.shape"
   ]
  },
  {
   "cell_type": "code",
   "execution_count": 11,
   "metadata": {},
   "outputs": [],
   "source": [
    "genres = movies_df['genres'].values\n",
    "genres_sets = [set([gg.split(':')[-1][2:-1] for gg in g[2:-2].split('},')]) for g in genres]"
   ]
  },
  {
   "cell_type": "code",
   "execution_count": 12,
   "metadata": {},
   "outputs": [
    {
     "data": {
      "text/plain": [
       "[{'Action', 'Adventure', 'Fantasy', 'Science Fiction'},\n",
       " {'Action', 'Adventure', 'Fantasy'},\n",
       " {'Action', 'Adventure', 'Crime'},\n",
       " {'Action', 'Crime', 'Drama', 'Thriller'},\n",
       " {'Action', 'Adventure', 'Science Fiction'}]"
      ]
     },
     "execution_count": 12,
     "metadata": {},
     "output_type": "execute_result"
    }
   ],
   "source": [
    "genres_sets[:5]"
   ]
  },
  {
   "cell_type": "code",
   "execution_count": 13,
   "metadata": {},
   "outputs": [],
   "source": [
    "mlb = MultiLabelBinarizer()\n",
    "y = mlb.fit_transform(genres_sets)\n",
    "#y = y.reshape(-1, 1, np.size(mlb.classes_))"
   ]
  },
  {
   "cell_type": "code",
   "execution_count": 14,
   "metadata": {},
   "outputs": [
    {
     "data": {
      "text/plain": [
       "array(['Action', 'Adventure', 'Animation', 'Comedy', 'Crime',\n",
       "       'Documentary', 'Drama', 'Family', 'Fantasy', 'Foreign', 'History',\n",
       "       'Horror', 'Music', 'Mystery', 'NoGenre', 'Romance',\n",
       "       'Science Fiction', 'TV Movie', 'Thriller', 'War', 'Western'],\n",
       "      dtype=object)"
      ]
     },
     "execution_count": 14,
     "metadata": {},
     "output_type": "execute_result"
    }
   ],
   "source": [
    "n_classes = np.size(mlb.classes_)\n",
    "mlb.classes_"
   ]
  },
  {
   "cell_type": "code",
   "execution_count": 15,
   "metadata": {},
   "outputs": [
    {
     "data": {
      "text/plain": [
       "(4803, 21)"
      ]
     },
     "execution_count": 15,
     "metadata": {},
     "output_type": "execute_result"
    }
   ],
   "source": [
    "y.shape"
   ]
  },
  {
   "cell_type": "markdown",
   "metadata": {},
   "source": [
    "## Classs weighting\n",
    "---\n",
    "Dealing with imbalanced classes."
   ]
  },
  {
   "cell_type": "code",
   "execution_count": 16,
   "metadata": {},
   "outputs": [
    {
     "data": {
      "text/plain": [
       "array([1154,  790,  234, 1722,  696,  110, 2297,  513,  424,   34,  197,\n",
       "        519,  185,  348,   28,  894,  535,    8, 1274,  144,   82])"
      ]
     },
     "execution_count": 16,
     "metadata": {},
     "output_type": "execute_result"
    }
   ],
   "source": [
    "counts = np.array(np.sum(y, axis=0)).flatten()\n",
    "counts"
   ]
  },
  {
   "cell_type": "code",
   "execution_count": 17,
   "metadata": {},
   "outputs": [
    {
     "data": {
      "text/plain": [
       "array([0.01819757, 0.02658228, 0.08974359, 0.01219512, 0.03017241,\n",
       "       0.19090909, 0.00914236, 0.04093567, 0.0495283 , 0.61764706,\n",
       "       0.10659898, 0.04046243, 0.11351351, 0.06034483, 0.75      ,\n",
       "       0.02348993, 0.03925234, 2.625     , 0.01648352, 0.14583333,\n",
       "       0.25609756])"
      ]
     },
     "execution_count": 17,
     "metadata": {},
     "output_type": "execute_result"
    }
   ],
   "source": [
    "weights = np.array([np.size(counts)/np.float32(c) for c in counts])\n",
    "weights"
   ]
  },
  {
   "cell_type": "code",
   "execution_count": 18,
   "metadata": {},
   "outputs": [],
   "source": [
    "class_weight = dict({i: w for i, w in enumerate(weights)})"
   ]
  },
  {
   "cell_type": "markdown",
   "metadata": {},
   "source": [
    "## Model\n",
    "---"
   ]
  },
  {
   "cell_type": "code",
   "execution_count": 19,
   "metadata": {},
   "outputs": [],
   "source": [
    "TRAIN_RATIO, TEST_RATIO = 0.6, 0.7"
   ]
  },
  {
   "cell_type": "code",
   "execution_count": 20,
   "metadata": {},
   "outputs": [
    {
     "name": "stdout",
     "output_type": "stream",
     "text": [
      "X_train: (2881, 300) | y_train: (2881, 21)\n",
      "X_val: (481, 300) | y_val: (481, 21)\n",
      "X_test: (1441, 300) | y_test: (1441, 21)\n"
     ]
    }
   ],
   "source": [
    "X_train, X_val, X_test = X[:int(len(X)*TRAIN_RATIO)], X[int(len(X)*TRAIN_RATIO):int(len(X)*TEST_RATIO)], X[int(len(X)*TEST_RATIO):]\n",
    "y_train, y_val, y_test = y[:int(len(y)*TRAIN_RATIO)], y[int(len(y)*TRAIN_RATIO):int(len(y)*TEST_RATIO)], y[int(len(y)*TEST_RATIO):]\n",
    "\n",
    "print(f'X_train: {X_train.shape} | y_train: {y_train.shape}')\n",
    "print(f'X_val: {X_val.shape} | y_val: {y_val.shape}')\n",
    "print(f'X_test: {X_test.shape} | y_test: {y_test.shape}')"
   ]
  },
  {
   "cell_type": "code",
   "execution_count": 21,
   "metadata": {},
   "outputs": [],
   "source": [
    "INIT = 'random_uniform'\n",
    "LR = 0.001\n",
    "BATCH_SIZE = 64\n",
    "EPOCHS = 10"
   ]
  },
  {
   "cell_type": "code",
   "execution_count": 22,
   "metadata": {},
   "outputs": [],
   "source": [
    "inputs = Input(shape=(300,), name='embeddings')\n",
    "h = Reshape((100, 3), name='input_reshaper')(inputs)\n",
    "h = Conv1D(100, 2, activation='relu', name='conv1d_0', kernel_initializer=INIT, bias_initializer=INIT)(h)\n",
    "h = MaxPool1D(pool_size=3, name='pool1d_0')(h)\n",
    "h = Conv1D(100, 2, activation='relu', name='conv1d_1', kernel_initializer=INIT, bias_initializer=INIT)(h)\n",
    "h = MaxPool1D(pool_size=2, name='pool1d_1')(h)\n",
    "h = Dropout(0.1, name='dropout_0')(h)\n",
    "h = Flatten(name='flattener')(h)\n",
    "h = Dense(500, activation='relu', name='dense_0', kernel_initializer=INIT, bias_initializer=INIT)(h)\n",
    "h = Dense(300, activation='relu', name='dense_1', kernel_initializer=INIT, bias_initializer=INIT)(h)\n",
    "h = Dense(100, activation='relu', name='dense_2', kernel_initializer=INIT, bias_initializer=INIT)(h)\n",
    "h = Dropout(0.1, name='dropout_1')(h)\n",
    "outputs = Dense(21, activation='sigmoid', name='predictions', kernel_initializer=INIT, bias_initializer=INIT)(h)\n",
    "\n",
    "NN = Model(inputs=inputs, outputs=outputs, name='texts_multilabel_classifier')"
   ]
  },
  {
   "cell_type": "code",
   "execution_count": 23,
   "metadata": {
    "scrolled": false
   },
   "outputs": [
    {
     "name": "stdout",
     "output_type": "stream",
     "text": [
      "Model: \"texts_multilabel_classifier\"\n",
      "_________________________________________________________________\n",
      "Layer (type)                 Output Shape              Param #   \n",
      "=================================================================\n",
      "embeddings (InputLayer)      [(None, 300)]             0         \n",
      "_________________________________________________________________\n",
      "input_reshaper (Reshape)     (None, 100, 3)            0         \n",
      "_________________________________________________________________\n",
      "conv1d_0 (Conv1D)            (None, 99, 100)           700       \n",
      "_________________________________________________________________\n",
      "pool1d_0 (MaxPooling1D)      (None, 33, 100)           0         \n",
      "_________________________________________________________________\n",
      "conv1d_1 (Conv1D)            (None, 32, 100)           20100     \n",
      "_________________________________________________________________\n",
      "pool1d_1 (MaxPooling1D)      (None, 16, 100)           0         \n",
      "_________________________________________________________________\n",
      "dropout_0 (Dropout)          (None, 16, 100)           0         \n",
      "_________________________________________________________________\n",
      "flattener (Flatten)          (None, 1600)              0         \n",
      "_________________________________________________________________\n",
      "dense_0 (Dense)              (None, 500)               800500    \n",
      "_________________________________________________________________\n",
      "dense_1 (Dense)              (None, 300)               150300    \n",
      "_________________________________________________________________\n",
      "dense_2 (Dense)              (None, 100)               30100     \n",
      "_________________________________________________________________\n",
      "dropout_1 (Dropout)          (None, 100)               0         \n",
      "_________________________________________________________________\n",
      "predictions (Dense)          (None, 21)                2121      \n",
      "=================================================================\n",
      "Total params: 1,003,821\n",
      "Trainable params: 1,003,821\n",
      "Non-trainable params: 0\n",
      "_________________________________________________________________\n"
     ]
    }
   ],
   "source": [
    "NN.summary()"
   ]
  },
  {
   "cell_type": "code",
   "execution_count": 24,
   "metadata": {
    "scrolled": false
   },
   "outputs": [],
   "source": [
    "class JaccardDistance(tf.keras.losses.Loss):\n",
    "    \n",
    "    def call(self, y_true, y_pred):\n",
    "        \"\"\" Calculates mean of Jaccard similarity as a metric function \"\"\"\n",
    "        y_true = K.flatten(y_true)\n",
    "        y_pred = K.flatten(y_pred)\n",
    "        intersection = K.sum(K.abs(y_true * y_pred), axis=-1)\n",
    "        sum_ = K.sum(K.abs(y_true) + K.abs(y_pred), axis=-1)\n",
    "        jac = (intersection) / (sum_ - intersection)\n",
    "        return tf.reduce_mean(1 - jac)\n",
    "\n",
    "class MeanSquaredError(tf.keras.losses.Loss):\n",
    "    \n",
    "    def call(self, y_true, y_pred):\n",
    "        return tf.reduce_mean(K.square(y_pred - y_true), axis=-1)\n",
    "\n",
    "def jacard_coef(y_true, y_pred):\n",
    "    y_true_f = K.flatten(y_true)\n",
    "    y_pred_f = K.flatten(y_pred)\n",
    "    intersection = K.sum(y_true_f * y_pred_f)\n",
    "    return (intersection + 1.0) / (K.sum(y_true_f) + K.sum(y_pred_f) - intersection + 1.0)\n",
    "\n",
    "\n",
    "def jacard_coef_loss(y_true, y_pred):\n",
    "    return -jacard_coef(y_true, y_pred)\n",
    "\n",
    "def jaccard_similarity(y_true, y_pred):\n",
    "    \"\"\" Calculates mean of Jaccard similarity as a metric function \"\"\"\n",
    "    intersection = tf.reduce_sum(y_true * y_pred, axis=-1)\n",
    "    sum_ = tf.reduce_sum(y_true + y_pred, axis=-1)\n",
    "    jac = (intersection) / (sum_ - intersection)\n",
    "    return tf.reduce_mean(jac)\n",
    "\n",
    "NN.compile(optimizer=tf.keras.optimizers.Adam(learning_rate=LR),\n",
    "           loss=tf.keras.losses.BinaryCrossentropy(),\n",
    "           metrics=[tf.keras.metrics.BinaryAccuracy(), jaccard_similarity])"
   ]
  },
  {
   "cell_type": "code",
   "execution_count": 25,
   "metadata": {},
   "outputs": [
    {
     "name": "stdout",
     "output_type": "stream",
     "text": [
      "WARNING:tensorflow:From /home/jakub/Dokumenty/venv36/lib/python3.6/site-packages/tensorflow/python/ops/math_grad.py:1250: add_dispatch_support.<locals>.wrapper (from tensorflow.python.ops.array_ops) is deprecated and will be removed in a future version.\n",
      "Instructions for updating:\n",
      "Use tf.where in 2.0, which has the same broadcast rule as np.where\n"
     ]
    },
    {
     "data": {
      "application/vnd.jupyter.widget-view+json": {
       "model_id": "90e285ff83d24d629ab07e8d818be8fb",
       "version_major": 2,
       "version_minor": 0
      },
      "text/plain": [
       "HBox(children=(FloatProgress(value=0.0, description='Training', max=10.0, style=ProgressStyle(description_widt…"
      ]
     },
     "metadata": {},
     "output_type": "display_data"
    },
    {
     "data": {
      "application/vnd.jupyter.widget-view+json": {
       "model_id": "",
       "version_major": 2,
       "version_minor": 0
      },
      "text/plain": [
       "HBox(children=(FloatProgress(value=0.0, description='Epoch 0', max=2881.0, style=ProgressStyle(description_wid…"
      ]
     },
     "metadata": {},
     "output_type": "display_data"
    },
    {
     "data": {
      "application/vnd.jupyter.widget-view+json": {
       "model_id": "",
       "version_major": 2,
       "version_minor": 0
      },
      "text/plain": [
       "HBox(children=(FloatProgress(value=0.0, description='Epoch 1', max=2881.0, style=ProgressStyle(description_wid…"
      ]
     },
     "metadata": {},
     "output_type": "display_data"
    },
    {
     "data": {
      "application/vnd.jupyter.widget-view+json": {
       "model_id": "",
       "version_major": 2,
       "version_minor": 0
      },
      "text/plain": [
       "HBox(children=(FloatProgress(value=0.0, description='Epoch 2', max=2881.0, style=ProgressStyle(description_wid…"
      ]
     },
     "metadata": {},
     "output_type": "display_data"
    },
    {
     "data": {
      "application/vnd.jupyter.widget-view+json": {
       "model_id": "",
       "version_major": 2,
       "version_minor": 0
      },
      "text/plain": [
       "HBox(children=(FloatProgress(value=0.0, description='Epoch 3', max=2881.0, style=ProgressStyle(description_wid…"
      ]
     },
     "metadata": {},
     "output_type": "display_data"
    },
    {
     "data": {
      "application/vnd.jupyter.widget-view+json": {
       "model_id": "",
       "version_major": 2,
       "version_minor": 0
      },
      "text/plain": [
       "HBox(children=(FloatProgress(value=0.0, description='Epoch 4', max=2881.0, style=ProgressStyle(description_wid…"
      ]
     },
     "metadata": {},
     "output_type": "display_data"
    },
    {
     "data": {
      "application/vnd.jupyter.widget-view+json": {
       "model_id": "",
       "version_major": 2,
       "version_minor": 0
      },
      "text/plain": [
       "HBox(children=(FloatProgress(value=0.0, description='Epoch 5', max=2881.0, style=ProgressStyle(description_wid…"
      ]
     },
     "metadata": {},
     "output_type": "display_data"
    },
    {
     "data": {
      "application/vnd.jupyter.widget-view+json": {
       "model_id": "",
       "version_major": 2,
       "version_minor": 0
      },
      "text/plain": [
       "HBox(children=(FloatProgress(value=0.0, description='Epoch 6', max=2881.0, style=ProgressStyle(description_wid…"
      ]
     },
     "metadata": {},
     "output_type": "display_data"
    },
    {
     "data": {
      "application/vnd.jupyter.widget-view+json": {
       "model_id": "",
       "version_major": 2,
       "version_minor": 0
      },
      "text/plain": [
       "HBox(children=(FloatProgress(value=0.0, description='Epoch 7', max=2881.0, style=ProgressStyle(description_wid…"
      ]
     },
     "metadata": {},
     "output_type": "display_data"
    },
    {
     "data": {
      "application/vnd.jupyter.widget-view+json": {
       "model_id": "",
       "version_major": 2,
       "version_minor": 0
      },
      "text/plain": [
       "HBox(children=(FloatProgress(value=0.0, description='Epoch 8', max=2881.0, style=ProgressStyle(description_wid…"
      ]
     },
     "metadata": {},
     "output_type": "display_data"
    },
    {
     "data": {
      "application/vnd.jupyter.widget-view+json": {
       "model_id": "",
       "version_major": 2,
       "version_minor": 0
      },
      "text/plain": [
       "HBox(children=(FloatProgress(value=0.0, description='Epoch 9', max=2881.0, style=ProgressStyle(description_wid…"
      ]
     },
     "metadata": {},
     "output_type": "display_data"
    },
    {
     "name": "stdout",
     "output_type": "stream",
     "text": [
      "\n"
     ]
    }
   ],
   "source": [
    "tqdm_callback = TQDMNotebookCallback()\n",
    "fit_results = NN.fit(X_train, y_train, batch_size=BATCH_SIZE, epochs=EPOCHS, class_weight=class_weight,\n",
    "                     validation_data=(X_val, y_val), verbose=0, callbacks=[tqdm_callback])"
   ]
  },
  {
   "cell_type": "code",
   "execution_count": 26,
   "metadata": {},
   "outputs": [],
   "source": [
    "predictions = NN.predict(X_test)"
   ]
  },
  {
   "cell_type": "code",
   "execution_count": 27,
   "metadata": {},
   "outputs": [
    {
     "data": {
      "text/plain": [
       "{'loss': [0.010783814729108283,\n",
       "  0.007189845369694931,\n",
       "  0.007150410980481431,\n",
       "  0.0071220709504259,\n",
       "  0.007133246997661606,\n",
       "  0.007105401616591374,\n",
       "  0.007112114004844444,\n",
       "  0.007095120650195995,\n",
       "  0.007090434597944792,\n",
       "  0.007099509447055304],\n",
       " 'binary_accuracy': [0.7734252,\n",
       "  0.86882854,\n",
       "  0.86899376,\n",
       "  0.8688782,\n",
       "  0.86889464,\n",
       "  0.8689113,\n",
       "  0.86892784,\n",
       "  0.8689279,\n",
       "  0.8689278,\n",
       "  0.8689278],\n",
       " 'jaccard_similarity': [0.11202672,\n",
       "  0.12566449,\n",
       "  0.12780719,\n",
       "  0.12709081,\n",
       "  0.12656192,\n",
       "  0.124641754,\n",
       "  0.12615907,\n",
       "  0.12656814,\n",
       "  0.12459276,\n",
       "  0.12594877],\n",
       " 'val_loss': [0.3079692073274799,\n",
       "  0.3016784297701227,\n",
       "  0.30768606909347423,\n",
       "  0.3112379805709617,\n",
       "  0.30608673942064296,\n",
       "  0.3144057776600804,\n",
       "  0.3062179736065022,\n",
       "  0.3064587417982224,\n",
       "  0.3090807663551735,\n",
       "  0.3073132108749818],\n",
       " 'val_binary_accuracy': [0.88446695,\n",
       "  0.88446695,\n",
       "  0.8844669,\n",
       "  0.88446695,\n",
       "  0.8844669,\n",
       "  0.8844669,\n",
       "  0.8844669,\n",
       "  0.8844669,\n",
       "  0.88446695,\n",
       "  0.88446695],\n",
       " 'val_jaccard_similarity': [0.13101013,\n",
       "  0.12597571,\n",
       "  0.11560945,\n",
       "  0.11965903,\n",
       "  0.116391994,\n",
       "  0.11958859,\n",
       "  0.11915767,\n",
       "  0.11126526,\n",
       "  0.12213246,\n",
       "  0.118754536]}"
      ]
     },
     "execution_count": 27,
     "metadata": {},
     "output_type": "execute_result"
    }
   ],
   "source": [
    "fit_results.history"
   ]
  },
  {
   "cell_type": "code",
   "execution_count": 28,
   "metadata": {},
   "outputs": [],
   "source": [
    "def training_progress_plot(results, title, save_file=None):\n",
    "    fig, ax1 = plt.subplots()\n",
    "    \n",
    "    ax1.set_xlabel('Epoch')\n",
    "    ax1.set_xticks(np.array(results.epoch)+1)\n",
    "    \n",
    "    ax1.set_ylabel('Binary accuracy', color='r')\n",
    "    ax1.plot(np.array(results.epoch)+1, results.history['binary_accuracy'], 'r-', label='accuracy')\n",
    "    ax1.plot(np.array(results.epoch)+1, results.history['val_binary_accuracy'], 'r--', label='val. accuracy')\n",
    "    ax1.tick_params(axis='y', labelcolor='r')\n",
    "    ax1.legend(loc='center')\n",
    "    \n",
    "    ax2 = ax1.twinx()\n",
    "    \n",
    "    ax2.set_ylabel('Binary loss', color='b')\n",
    "    ax2.plot(np.array(results.epoch)+1, results.history['loss'], 'b-', label='loss')\n",
    "    ax2.plot(np.array(results.epoch)+1, results.history['val_loss'], 'b--', label='val. loss')\n",
    "    ax2.tick_params(axis='y', labelcolor='b')\n",
    "    ax2.legend(loc='center right')\n",
    "    \n",
    "    fig.tight_layout()\n",
    "    plt.title(title)\n",
    "    \n",
    "    if save_file:\n",
    "        plt.savefig(save_file)\n",
    "    plt.show()"
   ]
  },
  {
   "cell_type": "code",
   "execution_count": 29,
   "metadata": {},
   "outputs": [
    {
     "data": {
      "image/png": "[encoded data removed]",
      "text/plain": [
       "<Figure size 432x288 with 2 Axes>"
      ]
     },
     "metadata": {
      "needs_background": "light"
     },
     "output_type": "display_data"
    }
   ],
   "source": [
    "training_progress_plot(fit_results, title='Convolution 1d training progress',\n",
    "                       save_file='ml_class_text2/training_progress.png')"
   ]
  },
  {
   "cell_type": "markdown",
   "metadata": {},
   "source": [
    "## Predictions\n",
    "---"
   ]
  },
  {
   "cell_type": "code",
   "execution_count": 30,
   "metadata": {},
   "outputs": [
    {
     "data": {
      "text/plain": [
       "array([0.09  , 0.0901, 0.0902, ..., 0.3998, 0.3999, 0.4   ])"
      ]
     },
     "execution_count": 30,
     "metadata": {},
     "output_type": "execute_result"
    }
   ],
   "source": [
    "# find best accuracy values in given prediction threshold values\n",
    "pred_thrs = np.arange(0.09, 0.4, 0.0001)\n",
    "pred_thrs"
   ]
  },
  {
   "cell_type": "code",
   "execution_count": 31,
   "metadata": {},
   "outputs": [],
   "source": [
    "# accuracy measure for flattened zero-one arrays\n",
    "def binary_flatten_accuracy(y_true, y_pred):\n",
    "    cm = tf.math.confusion_matrix(y_true.flatten(), y_pred.flatten()).numpy()\n",
    "    return float(np.sum(np.diag(cm)))/np.sum(np.sum(cm))\n",
    "\n",
    "# accuracy measure for labeled (different length) arrays\n",
    "def exact_match_ratio(y_true, y_pred):\n",
    "    matches = 0.\n",
    "    for y_t, y_p in zip(y_true, y_pred):\n",
    "        if np.array_equal(sorted(y_t), sorted(y_p)):\n",
    "            matches += 1.\n",
    "    return matches/y_true.shape[0]\n",
    "\n",
    "# accuracy measure for labeled (different length) arrays\n",
    "def multilabel_accuracy(y_true, y_pred):\n",
    "    score = 0.\n",
    "    for y_t, y_p in zip(y_true, y_pred):\n",
    "        score += np.float32(np.size(np.intersect1d(y_t, y_p)))/np.size(np.union1d(y_t, y_p))\n",
    "    \n",
    "    return score/y_true.shape[0]"
   ]
  },
  {
   "cell_type": "code",
   "execution_count": 32,
   "metadata": {},
   "outputs": [],
   "source": [
    "def accuracy_depencies(labels, logits, thr_s, save_file=None):\n",
    "    dependencies = list([])\n",
    "    for thr in tqdm(thr_s):\n",
    "        y_true = np.array(labels)\n",
    "        y_pred = np.array([np.vectorize(lambda p: 1 if p>thr else 0)(l) for l in logits])\n",
    "        \n",
    "        num_y_true = np.array([np.where(l==1)[0] for l in y_true])\n",
    "        num_y_pred = np.array([np.where(l==1)[0] for l in y_pred])\n",
    "        \n",
    "        bf_acc = binary_flatten_accuracy(y_true, y_pred)\n",
    "        emr = exact_match_ratio(num_y_true, num_y_pred)\n",
    "        ml_acc = multilabel_accuracy(num_y_true, num_y_pred)\n",
    "        \n",
    "        dependencies.append([thr, bf_acc, emr, ml_acc])\n",
    "    \n",
    "    # build dataframe\n",
    "    df = pd.DataFrame(dependencies,\n",
    "                      columns=['threshold', 'flat. acc.', 'em. ratio', 'ml. acc.'])\n",
    "    df = df.set_index('threshold')\n",
    "    \n",
    "    if save_file:\n",
    "        df.to_csv(save_file)\n",
    "    return df"
   ]
  },
  {
   "cell_type": "code",
   "execution_count": 33,
   "metadata": {},
   "outputs": [
    {
     "data": {
      "application/vnd.jupyter.widget-view+json": {
       "model_id": "bc9236f9858749038f9ada32765c5f11",
       "version_major": 2,
       "version_minor": 0
      },
      "text/plain": [
       "HBox(children=(FloatProgress(value=0.0, max=3101.0), HTML(value='')))"
      ]
     },
     "metadata": {},
     "output_type": "display_data"
    },
    {
     "name": "stdout",
     "output_type": "stream",
     "text": [
      "\n"
     ]
    },
    {
     "data": {
      "text/html": [
       "<div>\n",
       "<style scoped>\n",
       "    .dataframe tbody tr th:only-of-type {\n",
       "        vertical-align: middle;\n",
       "    }\n",
       "\n",
       "    .dataframe tbody tr th {\n",
       "        vertical-align: top;\n",
       "    }\n",
       "\n",
       "    .dataframe thead th {\n",
       "        text-align: right;\n",
       "    }\n",
       "</style>\n",
       "<table border=\"1\" class=\"dataframe\">\n",
       "  <thead>\n",
       "    <tr style=\"text-align: right;\">\n",
       "      <th></th>\n",
       "      <th>flat. acc.</th>\n",
       "      <th>em. ratio</th>\n",
       "      <th>ml. acc.</th>\n",
       "    </tr>\n",
       "    <tr>\n",
       "      <th>threshold</th>\n",
       "      <th></th>\n",
       "      <th></th>\n",
       "      <th></th>\n",
       "    </tr>\n",
       "  </thead>\n",
       "  <tbody>\n",
       "    <tr>\n",
       "      <th>0.0900</th>\n",
       "      <td>0.462410</td>\n",
       "      <td>0.0</td>\n",
       "      <td>0.147092</td>\n",
       "    </tr>\n",
       "    <tr>\n",
       "      <th>0.0901</th>\n",
       "      <td>0.462410</td>\n",
       "      <td>0.0</td>\n",
       "      <td>0.147092</td>\n",
       "    </tr>\n",
       "    <tr>\n",
       "      <th>0.0902</th>\n",
       "      <td>0.462410</td>\n",
       "      <td>0.0</td>\n",
       "      <td>0.147092</td>\n",
       "    </tr>\n",
       "    <tr>\n",
       "      <th>0.0903</th>\n",
       "      <td>0.462410</td>\n",
       "      <td>0.0</td>\n",
       "      <td>0.147092</td>\n",
       "    </tr>\n",
       "    <tr>\n",
       "      <th>0.0904</th>\n",
       "      <td>0.462410</td>\n",
       "      <td>0.0</td>\n",
       "      <td>0.147092</td>\n",
       "    </tr>\n",
       "    <tr>\n",
       "      <th>...</th>\n",
       "      <td>...</td>\n",
       "      <td>...</td>\n",
       "      <td>...</td>\n",
       "    </tr>\n",
       "    <tr>\n",
       "      <th>0.3996</th>\n",
       "      <td>0.897855</td>\n",
       "      <td>0.0</td>\n",
       "      <td>0.000000</td>\n",
       "    </tr>\n",
       "    <tr>\n",
       "      <th>0.3997</th>\n",
       "      <td>0.897855</td>\n",
       "      <td>0.0</td>\n",
       "      <td>0.000000</td>\n",
       "    </tr>\n",
       "    <tr>\n",
       "      <th>0.3998</th>\n",
       "      <td>0.897855</td>\n",
       "      <td>0.0</td>\n",
       "      <td>0.000000</td>\n",
       "    </tr>\n",
       "    <tr>\n",
       "      <th>0.3999</th>\n",
       "      <td>0.897855</td>\n",
       "      <td>0.0</td>\n",
       "      <td>0.000000</td>\n",
       "    </tr>\n",
       "    <tr>\n",
       "      <th>0.4000</th>\n",
       "      <td>0.897855</td>\n",
       "      <td>0.0</td>\n",
       "      <td>0.000000</td>\n",
       "    </tr>\n",
       "  </tbody>\n",
       "</table>\n",
       "<p>3101 rows × 3 columns</p>\n",
       "</div>"
      ],
      "text/plain": [
       "           flat. acc.  em. ratio  ml. acc.\n",
       "threshold                                 \n",
       "0.0900       0.462410        0.0  0.147092\n",
       "0.0901       0.462410        0.0  0.147092\n",
       "0.0902       0.462410        0.0  0.147092\n",
       "0.0903       0.462410        0.0  0.147092\n",
       "0.0904       0.462410        0.0  0.147092\n",
       "...               ...        ...       ...\n",
       "0.3996       0.897855        0.0  0.000000\n",
       "0.3997       0.897855        0.0  0.000000\n",
       "0.3998       0.897855        0.0  0.000000\n",
       "0.3999       0.897855        0.0  0.000000\n",
       "0.4000       0.897855        0.0  0.000000\n",
       "\n",
       "[3101 rows x 3 columns]"
      ]
     },
     "execution_count": 33,
     "metadata": {},
     "output_type": "execute_result"
    }
   ],
   "source": [
    "acc_dep = accuracy_depencies(labels=y_test, logits=predictions, thr_s=pred_thrs,\n",
    "                             save_file='ml_class_text2/accuracy_depencies.csv')\n",
    "acc_dep"
   ]
  },
  {
   "cell_type": "code",
   "execution_count": 34,
   "metadata": {},
   "outputs": [],
   "source": [
    "def accuracy_dependecies_plot(df, title, save_file=None):\n",
    "    plt.figure(figsize=(16, 4))\n",
    "    \n",
    "    x_space = df.index.values\n",
    "    plt.plot(x_space, df['flat. acc.'].values, label='flattened accuracy')\n",
    "    plt.plot(x_space, df['em. ratio'].values, label='exact match ratio')\n",
    "    plt.plot(x_space, df['ml. acc.'].values, label='multilabel accuracy')\n",
    "    \n",
    "    plt.title(title)\n",
    "    plt.ylabel('Accuracy')\n",
    "    plt.xlabel('Prediction threshold')\n",
    "    \n",
    "    plt.legend(loc='best')\n",
    "    \n",
    "    if save_file:\n",
    "        plt.savefig(save_file)\n",
    "    plt.show()"
   ]
  },
  {
   "cell_type": "code",
   "execution_count": 35,
   "metadata": {},
   "outputs": [
    {
     "data": {
      "image/png": "[encoded data removed]",
      "text/plain": [
       "<Figure size 1152x288 with 1 Axes>"
      ]
     },
     "metadata": {
      "needs_background": "light"
     },
     "output_type": "display_data"
    }
   ],
   "source": [
    "accuracy_dependecies_plot(acc_dep, title='Accuracy dependencies on prediction threshold',\n",
    "                          save_file='ml_class_text2/accuracy_depencies.png')"
   ]
  },
  {
   "cell_type": "code",
   "execution_count": 36,
   "metadata": {},
   "outputs": [
    {
     "name": "stdout",
     "output_type": "stream",
     "text": [
      "Max flattened binary accuracy 0.9016 for 0.3224 prediction threshold.\n",
      "Max exact match ratio 0.1214 for 0.3121 prediction threshold.\n",
      "Max multilabel accuracy 0.2864 for 0.3121 prediction threshold.\n"
     ]
    }
   ],
   "source": [
    "print(f'Max flattened binary accuracy {np.round(acc_dep[\"flat. acc.\"].max(), 4)}' +\n",
    "      f' for {np.round(acc_dep.index[acc_dep[\"flat. acc.\"].argmax()], 4)} prediction threshold.')\n",
    "print(f'Max exact match ratio {np.round(acc_dep[\"em. ratio\"].max(), 4)}' +\n",
    "      f' for {np.round(acc_dep.index[acc_dep[\"em. ratio\"].argmax()], 4)} prediction threshold.')\n",
    "print(f'Max multilabel accuracy {np.round(acc_dep[\"ml. acc.\"].max(), 4)}' +\n",
    "      f' for {np.round(acc_dep.index[acc_dep[\"ml. acc.\"].argmax()], 4)} prediction threshold.')"
   ]
  },
  {
   "cell_type": "code",
   "execution_count": null,
   "metadata": {},
   "outputs": [],
   "source": []
  }
 ],
 "metadata": {
  "kernelspec": {
   "display_name": "Python 3",
   "language": "python",
   "name": "python3"
  },
  "language_info": {
   "codemirror_mode": {
    "name": "ipython",
    "version": 3
   },
   "file_extension": ".py",
   "mimetype": "text/x-python",
   "name": "python",
   "nbconvert_exporter": "python",
   "pygments_lexer": "ipython3",
   "version": "3.6.9"
  }
 },
 "nbformat": 4,
 "nbformat_minor": 4
}
