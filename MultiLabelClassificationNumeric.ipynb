{
 "cells": [
  {
   "cell_type": "markdown",
   "metadata": {},
   "source": [
    "# Number multi-label classification using Keras\n",
    "---"
   ]
  },
  {
   "cell_type": "code",
   "execution_count": 1,
   "metadata": {},
   "outputs": [
    {
     "name": "stderr",
     "output_type": "stream",
     "text": [
      "Using TensorFlow backend.\n",
      "/home/jakub/Dokumenty/venv36/lib/python3.6/site-packages/tensorflow/python/framework/dtypes.py:516: FutureWarning: Passing (type, 1) or '1type' as a synonym of type is deprecated; in a future version of numpy, it will be understood as (type, (1,)) / '(1,)type'.\n",
      "  _np_qint8 = np.dtype([(\"qint8\", np.int8, 1)])\n",
      "/home/jakub/Dokumenty/venv36/lib/python3.6/site-packages/tensorflow/python/framework/dtypes.py:517: FutureWarning: Passing (type, 1) or '1type' as a synonym of type is deprecated; in a future version of numpy, it will be understood as (type, (1,)) / '(1,)type'.\n",
      "  _np_quint8 = np.dtype([(\"quint8\", np.uint8, 1)])\n",
      "/home/jakub/Dokumenty/venv36/lib/python3.6/site-packages/tensorflow/python/framework/dtypes.py:518: FutureWarning: Passing (type, 1) or '1type' as a synonym of type is deprecated; in a future version of numpy, it will be understood as (type, (1,)) / '(1,)type'.\n",
      "  _np_qint16 = np.dtype([(\"qint16\", np.int16, 1)])\n",
      "/home/jakub/Dokumenty/venv36/lib/python3.6/site-packages/tensorflow/python/framework/dtypes.py:519: FutureWarning: Passing (type, 1) or '1type' as a synonym of type is deprecated; in a future version of numpy, it will be understood as (type, (1,)) / '(1,)type'.\n",
      "  _np_quint16 = np.dtype([(\"quint16\", np.uint16, 1)])\n",
      "/home/jakub/Dokumenty/venv36/lib/python3.6/site-packages/tensorflow/python/framework/dtypes.py:520: FutureWarning: Passing (type, 1) or '1type' as a synonym of type is deprecated; in a future version of numpy, it will be understood as (type, (1,)) / '(1,)type'.\n",
      "  _np_qint32 = np.dtype([(\"qint32\", np.int32, 1)])\n",
      "/home/jakub/Dokumenty/venv36/lib/python3.6/site-packages/tensorflow/python/framework/dtypes.py:525: FutureWarning: Passing (type, 1) or '1type' as a synonym of type is deprecated; in a future version of numpy, it will be understood as (type, (1,)) / '(1,)type'.\n",
      "  np_resource = np.dtype([(\"resource\", np.ubyte, 1)])\n",
      "/home/jakub/Dokumenty/venv36/lib/python3.6/site-packages/tensorboard/compat/tensorflow_stub/dtypes.py:541: FutureWarning: Passing (type, 1) or '1type' as a synonym of type is deprecated; in a future version of numpy, it will be understood as (type, (1,)) / '(1,)type'.\n",
      "  _np_qint8 = np.dtype([(\"qint8\", np.int8, 1)])\n",
      "/home/jakub/Dokumenty/venv36/lib/python3.6/site-packages/tensorboard/compat/tensorflow_stub/dtypes.py:542: FutureWarning: Passing (type, 1) or '1type' as a synonym of type is deprecated; in a future version of numpy, it will be understood as (type, (1,)) / '(1,)type'.\n",
      "  _np_quint8 = np.dtype([(\"quint8\", np.uint8, 1)])\n",
      "/home/jakub/Dokumenty/venv36/lib/python3.6/site-packages/tensorboard/compat/tensorflow_stub/dtypes.py:543: FutureWarning: Passing (type, 1) or '1type' as a synonym of type is deprecated; in a future version of numpy, it will be understood as (type, (1,)) / '(1,)type'.\n",
      "  _np_qint16 = np.dtype([(\"qint16\", np.int16, 1)])\n",
      "/home/jakub/Dokumenty/venv36/lib/python3.6/site-packages/tensorboard/compat/tensorflow_stub/dtypes.py:544: FutureWarning: Passing (type, 1) or '1type' as a synonym of type is deprecated; in a future version of numpy, it will be understood as (type, (1,)) / '(1,)type'.\n",
      "  _np_quint16 = np.dtype([(\"quint16\", np.uint16, 1)])\n",
      "/home/jakub/Dokumenty/venv36/lib/python3.6/site-packages/tensorboard/compat/tensorflow_stub/dtypes.py:545: FutureWarning: Passing (type, 1) or '1type' as a synonym of type is deprecated; in a future version of numpy, it will be understood as (type, (1,)) / '(1,)type'.\n",
      "  _np_qint32 = np.dtype([(\"qint32\", np.int32, 1)])\n",
      "/home/jakub/Dokumenty/venv36/lib/python3.6/site-packages/tensorboard/compat/tensorflow_stub/dtypes.py:550: FutureWarning: Passing (type, 1) or '1type' as a synonym of type is deprecated; in a future version of numpy, it will be understood as (type, (1,)) / '(1,)type'.\n",
      "  np_resource = np.dtype([(\"resource\", np.ubyte, 1)])\n"
     ]
    }
   ],
   "source": [
    "import numpy as np\n",
    "import pandas as pd\n",
    "\n",
    "from skmultilearn.dataset import available_data_sets, load_dataset\n",
    "\n",
    "import csv\n",
    "from scipy.io import arff\n",
    "from scipy.sparse import csr_matrix\n",
    "\n",
    "import seaborn as sns\n",
    "import matplotlib.pyplot as plt\n",
    "\n",
    "from tqdm.notebook import tqdm\n",
    "from keras_tqdm import TQDMNotebookCallback\n",
    "\n",
    "import tensorflow as tf\n",
    "from tensorflow.keras import Model\n",
    "from tensorflow.keras.layers import Input, Dense, Conv1D, Dropout"
   ]
  },
  {
   "cell_type": "code",
   "execution_count": 2,
   "metadata": {},
   "outputs": [
    {
     "name": "stdout",
     "output_type": "stream",
     "text": [
      "Tensorflow: 2.0.0-beta1\n"
     ]
    }
   ],
   "source": [
    "print('Tensorflow:', tf.__version__)"
   ]
  },
  {
   "cell_type": "code",
   "execution_count": 3,
   "metadata": {},
   "outputs": [],
   "source": [
    "TRAIN_RATIO, TEST_RATIO = 0.6, 0.7"
   ]
  },
  {
   "cell_type": "markdown",
   "metadata": {},
   "source": [
    "## Data loading\n",
    "---\n",
    "><div class=\"row\">\n",
    ">  <div class=\"col-md-4\" markdown=\"1\">\n",
    ">      Numeric data\n",
    ">  </div>\n",
    ">    <div class=\"col-md-4\" markdown=\"1\">\n",
    ">      multi-label\n",
    ">  </div>\n",
    ">  <div class=\"col-md-4\" markdown=\"1\">\n",
    ">      classification.\n",
    ">  </div>\n",
    "></div>"
   ]
  },
  {
   "cell_type": "code",
   "execution_count": 4,
   "metadata": {},
   "outputs": [
    {
     "name": "stdout",
     "output_type": "stream",
     "text": [
      "enron:undivided - exists, not redownloading\n"
     ]
    }
   ],
   "source": [
    "data = load_dataset('enron', 'undivided')"
   ]
  },
  {
   "cell_type": "code",
   "execution_count": 5,
   "metadata": {},
   "outputs": [
    {
     "data": {
      "text/plain": [
       "array(['0', '00', '000', ..., 'years', 'yesterday', 'york'], dtype='<U14')"
      ]
     },
     "execution_count": 5,
     "metadata": {},
     "output_type": "execute_result"
    }
   ],
   "source": [
    "attributes = np.array([a[0] for a in data[2]])\n",
    "attributes"
   ]
  },
  {
   "cell_type": "code",
   "execution_count": 6,
   "metadata": {},
   "outputs": [
    {
     "data": {
      "text/plain": [
       "array(['A.A8', 'C.C9', 'B.B12', 'C.C11', 'C.C5', 'C.C7', 'B.B2', 'B.B3',\n",
       "       'D.D16', 'A.A7', 'D.D1', 'A.A4', 'C.C2', 'A.A3', 'A.A1', 'D.D9',\n",
       "       'D.D19', 'B.B8', 'D.D12', 'D.D6', 'C.C8', 'A.A6', 'B.B9', 'A.A5',\n",
       "       'C.C10', 'B.B1', 'D.D5', 'B.B11', 'D.D2', 'B.B4', 'D.D15', 'C.C4',\n",
       "       'D.D8', 'B.B6', 'D.D3', 'D.D13', 'D.D7', 'C.C12', 'B.B7', 'C.C6',\n",
       "       'B.B5', 'D.D11', 'A.A2', 'C.C3', 'D.D10', 'D.D18', 'B.B13',\n",
       "       'D.D17', 'B.B10', 'C.C1', 'D.D4', 'C.C13', 'D.D14'], dtype='<U5')"
      ]
     },
     "execution_count": 6,
     "metadata": {},
     "output_type": "execute_result"
    }
   ],
   "source": [
    "classes = np.array([c[0] for c in data[3]])\n",
    "classes"
   ]
  },
  {
   "cell_type": "code",
   "execution_count": 7,
   "metadata": {},
   "outputs": [
    {
     "data": {
      "text/plain": [
       "(1702, 1001)"
      ]
     },
     "execution_count": 7,
     "metadata": {},
     "output_type": "execute_result"
    }
   ],
   "source": [
    "X = csr_matrix(data[0]).toarray()\n",
    "X.shape"
   ]
  },
  {
   "cell_type": "code",
   "execution_count": 8,
   "metadata": {},
   "outputs": [
    {
     "data": {
      "text/plain": [
       "(1702, 53)"
      ]
     },
     "execution_count": 8,
     "metadata": {},
     "output_type": "execute_result"
    }
   ],
   "source": [
    "y = csr_matrix(data[1]).toarray()\n",
    "y.shape"
   ]
  },
  {
   "cell_type": "markdown",
   "metadata": {},
   "source": [
    "## Classs weighting\n",
    "---\n",
    "Dealing with imbalanced classes."
   ]
  },
  {
   "cell_type": "code",
   "execution_count": 9,
   "metadata": {},
   "outputs": [
    {
     "data": {
      "text/plain": [
       "array([ 26,  64,   6,  26, 108,  83, 913,  42,  10,  25,  12, 533, 125,\n",
       "       165, 855,  18,   9,  22,  38,  21, 107, 176,  55,  96,  77, 680,\n",
       "        13,   7,  20, 124,   3,  63,   7,  25,  22,   8,  13,  33,  13,\n",
       "       249,  15,  28,  49,  71, 130,   1, 311,   2,  18, 203,  20,   7,\n",
       "         3])"
      ]
     },
     "execution_count": 9,
     "metadata": {},
     "output_type": "execute_result"
    }
   ],
   "source": [
    "counts = np.array(np.sum(y, axis=0)).flatten()\n",
    "counts"
   ]
  },
  {
   "cell_type": "code",
   "execution_count": 10,
   "metadata": {},
   "outputs": [
    {
     "data": {
      "text/plain": [
       "array([ 2.03846154,  0.828125  ,  8.83333333,  2.03846154,  0.49074074,\n",
       "        0.63855422,  0.05805038,  1.26190476,  5.3       ,  2.12      ,\n",
       "        4.41666667,  0.09943715,  0.424     ,  0.32121212,  0.0619883 ,\n",
       "        2.94444444,  5.88888889,  2.40909091,  1.39473684,  2.52380952,\n",
       "        0.4953271 ,  0.30113636,  0.96363636,  0.55208333,  0.68831169,\n",
       "        0.07794118,  4.07692308,  7.57142857,  2.65      ,  0.42741935,\n",
       "       17.66666667,  0.84126984,  7.57142857,  2.12      ,  2.40909091,\n",
       "        6.625     ,  4.07692308,  1.60606061,  4.07692308,  0.21285141,\n",
       "        3.53333333,  1.89285714,  1.08163265,  0.74647887,  0.40769231,\n",
       "       53.        ,  0.17041801, 26.5       ,  2.94444444,  0.26108374,\n",
       "        2.65      ,  7.57142857, 17.66666667])"
      ]
     },
     "execution_count": 10,
     "metadata": {},
     "output_type": "execute_result"
    }
   ],
   "source": [
    "weights = np.array([np.size(counts)/np.float32(c) for c in counts])\n",
    "weights"
   ]
  },
  {
   "cell_type": "code",
   "execution_count": 11,
   "metadata": {},
   "outputs": [],
   "source": [
    "class_weight = dict({i: w for i, w in enumerate(weights)})    "
   ]
  },
  {
   "cell_type": "markdown",
   "metadata": {},
   "source": [
    "## Model\n",
    "---"
   ]
  },
  {
   "cell_type": "code",
   "execution_count": 12,
   "metadata": {},
   "outputs": [
    {
     "name": "stdout",
     "output_type": "stream",
     "text": [
      "X_train: (1021, 1001) | y_train: (1021, 53)\n",
      "X_val: (170, 1001) | y_val: (170, 53)\n",
      "X_test: (511, 1001) | y_test: (511, 53)\n"
     ]
    }
   ],
   "source": [
    "X_train, X_val, X_test = X[:int(len(X)*TRAIN_RATIO)], X[int(len(X)*TRAIN_RATIO):int(len(X)*TEST_RATIO)], X[int(len(X)*TEST_RATIO):]\n",
    "y_train, y_val, y_test = y[:int(len(y)*TRAIN_RATIO)], y[int(len(y)*TRAIN_RATIO):int(len(y)*TEST_RATIO)], y[int(len(y)*TEST_RATIO):]\n",
    "\n",
    "print(f'X_train: {X_train.shape} | y_train: {y_train.shape}')\n",
    "print(f'X_val: {X_val.shape} | y_val: {y_val.shape}')\n",
    "print(f'X_test: {X_test.shape} | y_test: {y_test.shape}')"
   ]
  },
  {
   "cell_type": "code",
   "execution_count": 13,
   "metadata": {},
   "outputs": [],
   "source": [
    "INIT = 'random_uniform'\n",
    "LR = 0.001\n",
    "BATCH_SIZE = 64\n",
    "EPOCHS = 20"
   ]
  },
  {
   "cell_type": "code",
   "execution_count": 14,
   "metadata": {},
   "outputs": [],
   "source": [
    "inputs = Input(shape=(1001, ), name='numeric_data')\n",
    "h = Dense(512, activation='relu', name='dense_0', kernel_initializer=INIT, bias_initializer=INIT)(inputs)\n",
    "h = Dense(256, activation='relu', name='dense_1', kernel_initializer=INIT, bias_initializer=INIT)(h)\n",
    "h = Dropout(0.1, name='dropout_0')(h)\n",
    "h = Dense(128, activation='relu', name='dense_2', kernel_initializer=INIT, bias_initializer=INIT)(h)\n",
    "h = Dense(64, activation='relu', name='dense_3', kernel_initializer=INIT, bias_initializer=INIT)(h)\n",
    "h = Dropout(0.1, name='dropout_1')(h)\n",
    "outputs = Dense(53, activation='sigmoid', name='predictions', kernel_initializer=INIT, bias_initializer=INIT)(h)\n",
    "\n",
    "NN = Model(inputs=inputs, outputs=outputs, name='numeric_multilabel_classifier')"
   ]
  },
  {
   "cell_type": "code",
   "execution_count": 16,
   "metadata": {},
   "outputs": [
    {
     "name": "stdout",
     "output_type": "stream",
     "text": [
      "Model: \"numeric_multilabel_classifier\"\n",
      "_________________________________________________________________\n",
      "Layer (type)                 Output Shape              Param #   \n",
      "=================================================================\n",
      "numeric_data (InputLayer)    [(None, 1001)]            0         \n",
      "_________________________________________________________________\n",
      "dense_0 (Dense)              (None, 512)               513024    \n",
      "_________________________________________________________________\n",
      "dense_1 (Dense)              (None, 256)               131328    \n",
      "_________________________________________________________________\n",
      "dropout_0 (Dropout)          (None, 256)               0         \n",
      "_________________________________________________________________\n",
      "dense_2 (Dense)              (None, 128)               32896     \n",
      "_________________________________________________________________\n",
      "dense_3 (Dense)              (None, 64)                8256      \n",
      "_________________________________________________________________\n",
      "dropout_1 (Dropout)          (None, 64)                0         \n",
      "_________________________________________________________________\n",
      "predictions (Dense)          (None, 53)                3445      \n",
      "=================================================================\n",
      "Total params: 688,949\n",
      "Trainable params: 688,949\n",
      "Non-trainable params: 0\n",
      "_________________________________________________________________\n"
     ]
    }
   ],
   "source": [
    "NN.summary()"
   ]
  },
  {
   "cell_type": "code",
   "execution_count": 17,
   "metadata": {},
   "outputs": [],
   "source": [
    "NN.compile(optimizer=tf.keras.optimizers.Adam(learning_rate=LR),\n",
    "           loss=tf.keras.losses.BinaryCrossentropy(),\n",
    "           metrics=[tf.keras.metrics.BinaryAccuracy()])"
   ]
  },
  {
   "cell_type": "code",
   "execution_count": 18,
   "metadata": {},
   "outputs": [
    {
     "name": "stdout",
     "output_type": "stream",
     "text": [
      "WARNING:tensorflow:From /home/jakub/Dokumenty/venv36/lib/python3.6/site-packages/tensorflow/python/ops/math_grad.py:1250: add_dispatch_support.<locals>.wrapper (from tensorflow.python.ops.array_ops) is deprecated and will be removed in a future version.\n",
      "Instructions for updating:\n",
      "Use tf.where in 2.0, which has the same broadcast rule as np.where\n"
     ]
    },
    {
     "data": {
      "application/vnd.jupyter.widget-view+json": {
       "model_id": "537ab083cb4747aba25f7cc380357d5e",
       "version_major": 2,
       "version_minor": 0
      },
      "text/plain": [
       "HBox(children=(FloatProgress(value=0.0, description='Training', max=20.0, style=ProgressStyle(description_widt…"
      ]
     },
     "metadata": {},
     "output_type": "display_data"
    },
    {
     "data": {
      "application/vnd.jupyter.widget-view+json": {
       "model_id": "",
       "version_major": 2,
       "version_minor": 0
      },
      "text/plain": [
       "HBox(children=(FloatProgress(value=0.0, description='Epoch 0', max=1021.0, style=ProgressStyle(description_wid…"
      ]
     },
     "metadata": {},
     "output_type": "display_data"
    },
    {
     "data": {
      "application/vnd.jupyter.widget-view+json": {
       "model_id": "",
       "version_major": 2,
       "version_minor": 0
      },
      "text/plain": [
       "HBox(children=(FloatProgress(value=0.0, description='Epoch 1', max=1021.0, style=ProgressStyle(description_wid…"
      ]
     },
     "metadata": {},
     "output_type": "display_data"
    },
    {
     "data": {
      "application/vnd.jupyter.widget-view+json": {
       "model_id": "",
       "version_major": 2,
       "version_minor": 0
      },
      "text/plain": [
       "HBox(children=(FloatProgress(value=0.0, description='Epoch 2', max=1021.0, style=ProgressStyle(description_wid…"
      ]
     },
     "metadata": {},
     "output_type": "display_data"
    },
    {
     "data": {
      "application/vnd.jupyter.widget-view+json": {
       "model_id": "",
       "version_major": 2,
       "version_minor": 0
      },
      "text/plain": [
       "HBox(children=(FloatProgress(value=0.0, description='Epoch 3', max=1021.0, style=ProgressStyle(description_wid…"
      ]
     },
     "metadata": {},
     "output_type": "display_data"
    },
    {
     "data": {
      "application/vnd.jupyter.widget-view+json": {
       "model_id": "",
       "version_major": 2,
       "version_minor": 0
      },
      "text/plain": [
       "HBox(children=(FloatProgress(value=0.0, description='Epoch 4', max=1021.0, style=ProgressStyle(description_wid…"
      ]
     },
     "metadata": {},
     "output_type": "display_data"
    },
    {
     "data": {
      "application/vnd.jupyter.widget-view+json": {
       "model_id": "",
       "version_major": 2,
       "version_minor": 0
      },
      "text/plain": [
       "HBox(children=(FloatProgress(value=0.0, description='Epoch 5', max=1021.0, style=ProgressStyle(description_wid…"
      ]
     },
     "metadata": {},
     "output_type": "display_data"
    },
    {
     "data": {
      "application/vnd.jupyter.widget-view+json": {
       "model_id": "",
       "version_major": 2,
       "version_minor": 0
      },
      "text/plain": [
       "HBox(children=(FloatProgress(value=0.0, description='Epoch 6', max=1021.0, style=ProgressStyle(description_wid…"
      ]
     },
     "metadata": {},
     "output_type": "display_data"
    },
    {
     "data": {
      "application/vnd.jupyter.widget-view+json": {
       "model_id": "",
       "version_major": 2,
       "version_minor": 0
      },
      "text/plain": [
       "HBox(children=(FloatProgress(value=0.0, description='Epoch 7', max=1021.0, style=ProgressStyle(description_wid…"
      ]
     },
     "metadata": {},
     "output_type": "display_data"
    },
    {
     "data": {
      "application/vnd.jupyter.widget-view+json": {
       "model_id": "",
       "version_major": 2,
       "version_minor": 0
      },
      "text/plain": [
       "HBox(children=(FloatProgress(value=0.0, description='Epoch 8', max=1021.0, style=ProgressStyle(description_wid…"
      ]
     },
     "metadata": {},
     "output_type": "display_data"
    },
    {
     "data": {
      "application/vnd.jupyter.widget-view+json": {
       "model_id": "",
       "version_major": 2,
       "version_minor": 0
      },
      "text/plain": [
       "HBox(children=(FloatProgress(value=0.0, description='Epoch 9', max=1021.0, style=ProgressStyle(description_wid…"
      ]
     },
     "metadata": {},
     "output_type": "display_data"
    },
    {
     "data": {
      "application/vnd.jupyter.widget-view+json": {
       "model_id": "",
       "version_major": 2,
       "version_minor": 0
      },
      "text/plain": [
       "HBox(children=(FloatProgress(value=0.0, description='Epoch 10', max=1021.0, style=ProgressStyle(description_wi…"
      ]
     },
     "metadata": {},
     "output_type": "display_data"
    },
    {
     "data": {
      "application/vnd.jupyter.widget-view+json": {
       "model_id": "",
       "version_major": 2,
       "version_minor": 0
      },
      "text/plain": [
       "HBox(children=(FloatProgress(value=0.0, description='Epoch 11', max=1021.0, style=ProgressStyle(description_wi…"
      ]
     },
     "metadata": {},
     "output_type": "display_data"
    },
    {
     "data": {
      "application/vnd.jupyter.widget-view+json": {
       "model_id": "",
       "version_major": 2,
       "version_minor": 0
      },
      "text/plain": [
       "HBox(children=(FloatProgress(value=0.0, description='Epoch 12', max=1021.0, style=ProgressStyle(description_wi…"
      ]
     },
     "metadata": {},
     "output_type": "display_data"
    },
    {
     "data": {
      "application/vnd.jupyter.widget-view+json": {
       "model_id": "",
       "version_major": 2,
       "version_minor": 0
      },
      "text/plain": [
       "HBox(children=(FloatProgress(value=0.0, description='Epoch 13', max=1021.0, style=ProgressStyle(description_wi…"
      ]
     },
     "metadata": {},
     "output_type": "display_data"
    },
    {
     "data": {
      "application/vnd.jupyter.widget-view+json": {
       "model_id": "",
       "version_major": 2,
       "version_minor": 0
      },
      "text/plain": [
       "HBox(children=(FloatProgress(value=0.0, description='Epoch 14', max=1021.0, style=ProgressStyle(description_wi…"
      ]
     },
     "metadata": {},
     "output_type": "display_data"
    },
    {
     "data": {
      "application/vnd.jupyter.widget-view+json": {
       "model_id": "",
       "version_major": 2,
       "version_minor": 0
      },
      "text/plain": [
       "HBox(children=(FloatProgress(value=0.0, description='Epoch 15', max=1021.0, style=ProgressStyle(description_wi…"
      ]
     },
     "metadata": {},
     "output_type": "display_data"
    },
    {
     "data": {
      "application/vnd.jupyter.widget-view+json": {
       "model_id": "",
       "version_major": 2,
       "version_minor": 0
      },
      "text/plain": [
       "HBox(children=(FloatProgress(value=0.0, description='Epoch 16', max=1021.0, style=ProgressStyle(description_wi…"
      ]
     },
     "metadata": {},
     "output_type": "display_data"
    },
    {
     "data": {
      "application/vnd.jupyter.widget-view+json": {
       "model_id": "",
       "version_major": 2,
       "version_minor": 0
      },
      "text/plain": [
       "HBox(children=(FloatProgress(value=0.0, description='Epoch 17', max=1021.0, style=ProgressStyle(description_wi…"
      ]
     },
     "metadata": {},
     "output_type": "display_data"
    },
    {
     "data": {
      "application/vnd.jupyter.widget-view+json": {
       "model_id": "",
       "version_major": 2,
       "version_minor": 0
      },
      "text/plain": [
       "HBox(children=(FloatProgress(value=0.0, description='Epoch 18', max=1021.0, style=ProgressStyle(description_wi…"
      ]
     },
     "metadata": {},
     "output_type": "display_data"
    },
    {
     "data": {
      "application/vnd.jupyter.widget-view+json": {
       "model_id": "",
       "version_major": 2,
       "version_minor": 0
      },
      "text/plain": [
       "HBox(children=(FloatProgress(value=0.0, description='Epoch 19', max=1021.0, style=ProgressStyle(description_wi…"
      ]
     },
     "metadata": {},
     "output_type": "display_data"
    },
    {
     "name": "stdout",
     "output_type": "stream",
     "text": [
      "\n"
     ]
    }
   ],
   "source": [
    "tqdm_callback = TQDMNotebookCallback()\n",
    "fit_results = NN.fit(X_train, y_train, class_weight=class_weight, batch_size=BATCH_SIZE, epochs=EPOCHS,\n",
    "                     validation_data=(X_val, y_val), verbose=0, callbacks=[tqdm_callback])"
   ]
  },
  {
   "cell_type": "code",
   "execution_count": 19,
   "metadata": {},
   "outputs": [],
   "source": [
    "predictions = NN.predict(X_test)"
   ]
  },
  {
   "cell_type": "code",
   "execution_count": 20,
   "metadata": {},
   "outputs": [],
   "source": [
    "def training_progress_plot(results, title, save_file=None):\n",
    "    fig, ax1 = plt.subplots()\n",
    "    \n",
    "    ax1.set_xlabel('Epoch')\n",
    "    ax1.set_xticks(np.array(results.epoch)+1)\n",
    "    \n",
    "    ax1.set_ylabel('Binary accuracy', color='r')\n",
    "    ax1.plot(np.array(results.epoch)+1, results.history['binary_accuracy'], 'r-', label='accuracy')\n",
    "    ax1.plot(np.array(results.epoch)+1, results.history['val_binary_accuracy'], 'r--', label='val. accuracy')\n",
    "    ax1.tick_params(axis='y', labelcolor='r')\n",
    "    ax1.legend(loc='center')\n",
    "    \n",
    "    ax2 = ax1.twinx()\n",
    "    \n",
    "    ax2.set_ylabel('Binary loss', color='b')\n",
    "    ax2.plot(np.array(results.epoch)+1, results.history['loss'], 'b-', label='loss')\n",
    "    ax2.plot(np.array(results.epoch)+1, results.history['val_loss'], 'b--', label='val. loss')\n",
    "    ax2.tick_params(axis='y', labelcolor='b')\n",
    "    ax2.legend(loc='center right')\n",
    "    \n",
    "    fig.tight_layout()\n",
    "    plt.title(title)\n",
    "    \n",
    "    if save_file:\n",
    "        plt.savefig(save_file)\n",
    "    plt.show()"
   ]
  },
  {
   "cell_type": "code",
   "execution_count": 21,
   "metadata": {
    "scrolled": false
   },
   "outputs": [
    {
     "data": {
      "image/png": "[encoded data removed]",
      "text/plain": [
       "<Figure size 432x288 with 2 Axes>"
      ]
     },
     "metadata": {
      "needs_background": "light"
     },
     "output_type": "display_data"
    }
   ],
   "source": [
    "training_progress_plot(fit_results, title='Dense training progress',\n",
    "                       save_file='ml_class_numeric/training_progress.png')"
   ]
  },
  {
   "cell_type": "markdown",
   "metadata": {},
   "source": [
    "## Predictions\n",
    "---"
   ]
  },
  {
   "cell_type": "code",
   "execution_count": 22,
   "metadata": {},
   "outputs": [],
   "source": [
    "PRED_THR = 0.09"
   ]
  },
  {
   "cell_type": "code",
   "execution_count": 23,
   "metadata": {},
   "outputs": [
    {
     "data": {
      "text/plain": [
       "array([0.09  , 0.0901, 0.0902, ..., 0.3998, 0.3999, 0.4   ])"
      ]
     },
     "execution_count": 23,
     "metadata": {},
     "output_type": "execute_result"
    }
   ],
   "source": [
    "# find best accuracy values in given prediction threshold values\n",
    "pred_thrs = np.arange(0.09, 0.4, 0.0001)\n",
    "pred_thrs"
   ]
  },
  {
   "cell_type": "code",
   "execution_count": 24,
   "metadata": {},
   "outputs": [],
   "source": [
    "# accuracy measure for flattened zero-one arrays\n",
    "def binary_flatten_accuracy(y_true, y_pred):\n",
    "    cm = tf.math.confusion_matrix(y_true.flatten(), y_pred.flatten()).numpy()\n",
    "    return float(np.sum(np.diag(cm)))/np.sum(np.sum(cm))\n",
    "\n",
    "# accuracy measure for labeled (different length) arrays\n",
    "def exact_match_ratio(y_true, y_pred):\n",
    "    matches = 0.\n",
    "    for y_t, y_p in zip(y_true, y_pred):\n",
    "        if np.array_equal(sorted(y_t), sorted(y_p)):\n",
    "            matches += 1.\n",
    "    return matches/y_true.shape[0]\n",
    "\n",
    "# accuracy measure for labeled (different length) arrays\n",
    "def multilabel_accuracy(y_true, y_pred):\n",
    "    score = 0.\n",
    "    for y_t, y_p in zip(y_true, y_pred):\n",
    "        score += np.float32(np.size(np.intersect1d(y_t, y_p)))/np.size(np.union1d(y_t, y_p))\n",
    "    \n",
    "    return score/y_true.shape[0]"
   ]
  },
  {
   "cell_type": "code",
   "execution_count": 25,
   "metadata": {},
   "outputs": [],
   "source": [
    "def accuracy_depencies(labels, logits, thr_s, save_file=None):\n",
    "    dependencies = list([])\n",
    "    for thr in tqdm(thr_s):\n",
    "        y_true = np.array(labels)\n",
    "        y_pred = np.array([np.vectorize(lambda p: 1 if p>thr else 0)(l) for l in logits])\n",
    "        \n",
    "        num_y_true = np.array([np.where(l==1)[0] for l in y_true])\n",
    "        num_y_pred = np.array([np.where(l==1)[0] for l in y_pred])\n",
    "        \n",
    "        bf_acc = binary_flatten_accuracy(y_true, y_pred)\n",
    "        emr = exact_match_ratio(num_y_true, num_y_pred)\n",
    "        ml_acc = multilabel_accuracy(num_y_true, num_y_pred)\n",
    "        \n",
    "        dependencies.append([thr, bf_acc, emr, ml_acc])\n",
    "    \n",
    "    # build dataframe\n",
    "    df = pd.DataFrame(dependencies,\n",
    "                      columns=['threshold', 'flat. acc.', 'em. ratio', 'ml. acc.'])\n",
    "    df = df.set_index('threshold')\n",
    "    \n",
    "    if save_file:\n",
    "        df.to_csv(save_file)\n",
    "    return df"
   ]
  },
  {
   "cell_type": "code",
   "execution_count": 26,
   "metadata": {},
   "outputs": [
    {
     "data": {
      "application/vnd.jupyter.widget-view+json": {
       "model_id": "8396e8e81bc6435fb0c1d755fa34e37b",
       "version_major": 2,
       "version_minor": 0
      },
      "text/plain": [
       "HBox(children=(FloatProgress(value=0.0, max=3101.0), HTML(value='')))"
      ]
     },
     "metadata": {},
     "output_type": "display_data"
    },
    {
     "name": "stdout",
     "output_type": "stream",
     "text": [
      "\n"
     ]
    },
    {
     "data": {
      "text/html": [
       "<div>\n",
       "<style scoped>\n",
       "    .dataframe tbody tr th:only-of-type {\n",
       "        vertical-align: middle;\n",
       "    }\n",
       "\n",
       "    .dataframe tbody tr th {\n",
       "        vertical-align: top;\n",
       "    }\n",
       "\n",
       "    .dataframe thead th {\n",
       "        text-align: right;\n",
       "    }\n",
       "</style>\n",
       "<table border=\"1\" class=\"dataframe\">\n",
       "  <thead>\n",
       "    <tr style=\"text-align: right;\">\n",
       "      <th></th>\n",
       "      <th>flat. acc.</th>\n",
       "      <th>em. ratio</th>\n",
       "      <th>ml. acc.</th>\n",
       "    </tr>\n",
       "    <tr>\n",
       "      <th>threshold</th>\n",
       "      <th></th>\n",
       "      <th></th>\n",
       "      <th></th>\n",
       "    </tr>\n",
       "  </thead>\n",
       "  <tbody>\n",
       "    <tr>\n",
       "      <th>0.0900</th>\n",
       "      <td>0.830816</td>\n",
       "      <td>0.0</td>\n",
       "      <td>0.212889</td>\n",
       "    </tr>\n",
       "    <tr>\n",
       "      <th>0.0901</th>\n",
       "      <td>0.831038</td>\n",
       "      <td>0.0</td>\n",
       "      <td>0.212975</td>\n",
       "    </tr>\n",
       "    <tr>\n",
       "      <th>0.0902</th>\n",
       "      <td>0.831149</td>\n",
       "      <td>0.0</td>\n",
       "      <td>0.212698</td>\n",
       "    </tr>\n",
       "    <tr>\n",
       "      <th>0.0903</th>\n",
       "      <td>0.831370</td>\n",
       "      <td>0.0</td>\n",
       "      <td>0.212926</td>\n",
       "    </tr>\n",
       "    <tr>\n",
       "      <th>0.0904</th>\n",
       "      <td>0.831592</td>\n",
       "      <td>0.0</td>\n",
       "      <td>0.213268</td>\n",
       "    </tr>\n",
       "    <tr>\n",
       "      <th>...</th>\n",
       "      <td>...</td>\n",
       "      <td>...</td>\n",
       "      <td>...</td>\n",
       "    </tr>\n",
       "    <tr>\n",
       "      <th>0.3996</th>\n",
       "      <td>0.936418</td>\n",
       "      <td>0.0</td>\n",
       "      <td>0.179857</td>\n",
       "    </tr>\n",
       "    <tr>\n",
       "      <th>0.3997</th>\n",
       "      <td>0.936344</td>\n",
       "      <td>0.0</td>\n",
       "      <td>0.178925</td>\n",
       "    </tr>\n",
       "    <tr>\n",
       "      <th>0.3998</th>\n",
       "      <td>0.936344</td>\n",
       "      <td>0.0</td>\n",
       "      <td>0.178925</td>\n",
       "    </tr>\n",
       "    <tr>\n",
       "      <th>0.3999</th>\n",
       "      <td>0.936344</td>\n",
       "      <td>0.0</td>\n",
       "      <td>0.178925</td>\n",
       "    </tr>\n",
       "    <tr>\n",
       "      <th>0.4000</th>\n",
       "      <td>0.936344</td>\n",
       "      <td>0.0</td>\n",
       "      <td>0.178925</td>\n",
       "    </tr>\n",
       "  </tbody>\n",
       "</table>\n",
       "<p>3101 rows × 3 columns</p>\n",
       "</div>"
      ],
      "text/plain": [
       "           flat. acc.  em. ratio  ml. acc.\n",
       "threshold                                 \n",
       "0.0900       0.830816        0.0  0.212889\n",
       "0.0901       0.831038        0.0  0.212975\n",
       "0.0902       0.831149        0.0  0.212698\n",
       "0.0903       0.831370        0.0  0.212926\n",
       "0.0904       0.831592        0.0  0.213268\n",
       "...               ...        ...       ...\n",
       "0.3996       0.936418        0.0  0.179857\n",
       "0.3997       0.936344        0.0  0.178925\n",
       "0.3998       0.936344        0.0  0.178925\n",
       "0.3999       0.936344        0.0  0.178925\n",
       "0.4000       0.936344        0.0  0.178925\n",
       "\n",
       "[3101 rows x 3 columns]"
      ]
     },
     "execution_count": 26,
     "metadata": {},
     "output_type": "execute_result"
    }
   ],
   "source": [
    "acc_dep = accuracy_depencies(labels=y_test, logits=predictions, thr_s=pred_thrs,\n",
    "                             save_file='ml_class_numeric/accuracy_depencies.csv')\n",
    "acc_dep"
   ]
  },
  {
   "cell_type": "code",
   "execution_count": 27,
   "metadata": {},
   "outputs": [],
   "source": [
    "def accuracy_dependecies_plot(df, title, save_file=None):\n",
    "    plt.figure(figsize=(16, 4))\n",
    "    \n",
    "    x_space = df.index.values\n",
    "    plt.plot(x_space, df['flat. acc.'].values, label='flattened accuracy')\n",
    "    plt.plot(x_space, df['em. ratio'].values, label='exact match ratio')\n",
    "    plt.plot(x_space, df['ml. acc.'].values, label='multilabel accuracy')\n",
    "    \n",
    "    plt.title(title)\n",
    "    plt.ylabel('Accuracy')\n",
    "    plt.xlabel('Prediction threshold')\n",
    "    \n",
    "    plt.legend(loc='best')\n",
    "    \n",
    "    if save_file:\n",
    "        plt.savefig(save_file)\n",
    "    plt.show()"
   ]
  },
  {
   "cell_type": "code",
   "execution_count": 28,
   "metadata": {},
   "outputs": [
    {
     "data": {
      "image/png": "[encoded data removed]",
      "text/plain": [
       "<Figure size 1152x288 with 1 Axes>"
      ]
     },
     "metadata": {
      "needs_background": "light"
     },
     "output_type": "display_data"
    }
   ],
   "source": [
    "accuracy_dependecies_plot(acc_dep, title='Accuracy dependencies on prediction threshold',\n",
    "                          save_file='ml_class_numeric/accuracy_depencies.png')"
   ]
  },
  {
   "cell_type": "code",
   "execution_count": 29,
   "metadata": {},
   "outputs": [
    {
     "name": "stdout",
     "output_type": "stream",
     "text": [
      "Max flattened binary accuracy 0.9371 for 0.3389 prediction threshold.\n",
      "Max exact match ratio 0.0039 for 0.2353 prediction threshold.\n",
      "Max multilabel accuracy 0.2534 for 0.1732 prediction threshold.\n"
     ]
    }
   ],
   "source": [
    "print(f'Max flattened binary accuracy {np.round(acc_dep[\"flat. acc.\"].max(), 4)}' +\n",
    "      f' for {np.round(acc_dep.index[acc_dep[\"flat. acc.\"].argmax()], 4)} prediction threshold.')\n",
    "print(f'Max exact match ratio {np.round(acc_dep[\"em. ratio\"].max(), 4)}' +\n",
    "      f' for {np.round(acc_dep.index[acc_dep[\"em. ratio\"].argmax()], 4)} prediction threshold.')\n",
    "print(f'Max multilabel accuracy {np.round(acc_dep[\"ml. acc.\"].max(), 4)}' +\n",
    "      f' for {np.round(acc_dep.index[acc_dep[\"ml. acc.\"].argmax()], 4)} prediction threshold.')"
   ]
  },
  {
   "cell_type": "code",
   "execution_count": null,
   "metadata": {},
   "outputs": [],
   "source": []
  }
 ],
 "metadata": {
  "kernelspec": {
   "display_name": "Python 3",
   "language": "python",
   "name": "python3"
  },
  "language_info": {
   "codemirror_mode": {
    "name": "ipython",
    "version": 3
   },
   "file_extension": ".py",
   "mimetype": "text/x-python",
   "name": "python",
   "nbconvert_exporter": "python",
   "pygments_lexer": "ipython3",
   "version": "3.6.9"
  }
 },
 "nbformat": 4,
 "nbformat_minor": 4
}
